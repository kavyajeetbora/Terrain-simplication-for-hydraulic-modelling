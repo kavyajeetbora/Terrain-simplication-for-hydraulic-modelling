{
 "cells": [
  {
   "cell_type": "code",
   "execution_count": 12,
   "id": "633be21c",
   "metadata": {},
   "outputs": [
    {
     "name": "stderr",
     "output_type": "stream",
     "text": [
      "C:\\Users\\KVBA\\Anaconda3\\lib\\site-packages\\ipykernel\\ipkernel.py:287: DeprecationWarning: `should_run_async` will not call `transform_cell` automatically in the future. Please pass the result to `transformed_cell` argument and any exception that happen during thetransform in `preprocessing_exc_tuple` in IPython 7.17 and above.\n",
      "  and should_run_async(code)\n"
     ]
    }
   ],
   "source": [
    "import osmnx as ox"
   ]
  },
  {
   "cell_type": "code",
   "execution_count": 13,
   "id": "5e31564b",
   "metadata": {},
   "outputs": [],
   "source": [
    "def get_street_geometry(north, south, east, west, tags={\"highway\":True}):\n",
    "    '''Returns a geodataframe containing the streets geometry within an area extends provided'''\n",
    "    gdf = ox.geometries.geometries_from_bbox(north, south, east, west, tags=tags)\n",
    "    gdf = gdf.loc[\"way\"].iloc[:,0:2]\n",
    "    \n",
    "    return gdf"
   ]
  }
 ],
 "metadata": {
  "kernelspec": {
   "display_name": "Python 3",
   "language": "python",
   "name": "python3"
  },
  "language_info": {
   "codemirror_mode": {
    "name": "ipython",
    "version": 3
   },
   "file_extension": ".py",
   "mimetype": "text/x-python",
   "name": "python",
   "nbconvert_exporter": "python",
   "pygments_lexer": "ipython3",
   "version": "3.8.8"
  },
  "toc": {
   "base_numbering": 1,
   "nav_menu": {},
   "number_sections": true,
   "sideBar": true,
   "skip_h1_title": false,
   "title_cell": "Table of Contents",
   "title_sidebar": "Contents",
   "toc_cell": false,
   "toc_position": {},
   "toc_section_display": true,
   "toc_window_display": false
  }
 },
 "nbformat": 4,
 "nbformat_minor": 5
}
