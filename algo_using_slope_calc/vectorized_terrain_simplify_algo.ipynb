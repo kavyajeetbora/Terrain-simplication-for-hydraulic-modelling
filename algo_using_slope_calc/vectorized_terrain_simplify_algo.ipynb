{
 "cells": [
  {
   "cell_type": "code",
   "execution_count": 1,
   "id": "c4ade5cb",
   "metadata": {},
   "outputs": [],
   "source": [
    "import numpy as np\n",
    "from itertools import product\n",
    "import rasterio\n",
    "import pandas as pd\n",
    "import os\n",
    "import matplotlib.pyplot as plt\n",
    "from sklearn.preprocessing import MinMaxScaler"
   ]
  },
  {
   "cell_type": "markdown",
   "id": "6164ac5c",
   "metadata": {},
   "source": [
    "## 1. Sample 2D array"
   ]
  },
  {
   "cell_type": "code",
   "execution_count": 7,
   "id": "9e8ae1e8",
   "metadata": {},
   "outputs": [
    {
     "data": {
      "text/plain": [
       "array([[ 0.,  1.,  2.,  3.,  4.],\n",
       "       [ 5.,  6.,  7.,  8.,  9.],\n",
       "       [10., 11., 12., 13., 14.],\n",
       "       [15., 16., 17., 18., 19.],\n",
       "       [20., 21., 22., 23., 24.]])"
      ]
     },
     "execution_count": 7,
     "metadata": {},
     "output_type": "execute_result"
    }
   ],
   "source": [
    "A = np.array(range(0,25)).reshape(5,5).astype(float)\n",
    "A"
   ]
  },
  {
   "cell_type": "markdown",
   "id": "789b8bb3",
   "metadata": {},
   "source": [
    "### Padding"
   ]
  },
  {
   "cell_type": "code",
   "execution_count": 8,
   "id": "c880af45",
   "metadata": {},
   "outputs": [
    {
     "data": {
      "text/plain": [
       "array([[nan, nan, nan, nan, nan, nan, nan],\n",
       "       [nan,  0.,  1.,  2.,  3.,  4., nan],\n",
       "       [nan,  5.,  6.,  7.,  8.,  9., nan],\n",
       "       [nan, 10., 11., 12., 13., 14., nan],\n",
       "       [nan, 15., 16., 17., 18., 19., nan],\n",
       "       [nan, 20., 21., 22., 23., 24., nan],\n",
       "       [nan, nan, nan, nan, nan, nan, nan]])"
      ]
     },
     "execution_count": 8,
     "metadata": {},
     "output_type": "execute_result"
    }
   ],
   "source": [
    "np.pad(A, pad_width=1, mode=\"constant\", constant_values=np.nan)"
   ]
  },
  {
   "cell_type": "markdown",
   "id": "60eb9809",
   "metadata": {},
   "source": [
    "## Mapping values with indices\n",
    "\n",
    "Indices of adjacent values in anti-clockwise direction:\n",
    "\n",
    "1. top-left = 0,0\n",
    "2. left = 1,0\n",
    "3. bottom-left = 2,0\n",
    "4. bottom = 2,1\n",
    "5. bottom-right = 2,2\n",
    "6. right = 1,2\n",
    "7. top-right = 0,2\n",
    "8. top = 0,1"
   ]
  },
  {
   "cell_type": "code",
   "execution_count": 14,
   "id": "c909980f",
   "metadata": {},
   "outputs": [
    {
     "name": "stdout",
     "output_type": "stream",
     "text": [
      "(5, 5)\n"
     ]
    },
    {
     "data": {
      "text/plain": [
       "array([[ 5.,  6.,  7.,  8.,  9.],\n",
       "       [10., 11., 12., 13., 14.],\n",
       "       [15., 16., 17., 18., 19.],\n",
       "       [20., 21., 22., 23., 24.],\n",
       "       [nan, nan, nan, nan, nan]])"
      ]
     },
     "execution_count": 14,
     "metadata": {},
     "output_type": "execute_result"
    }
   ],
   "source": [
    "index = (2,1)\n",
    "B = np.pad(A,pad_width=1, constant_values=np.nan)[index[0]:index[0]+A.shape[0],index[1]:index[1]+A.shape[1]]\n",
    "print(B.shape)\n",
    "B"
   ]
  },
  {
   "cell_type": "code",
   "execution_count": 15,
   "id": "89639c83",
   "metadata": {},
   "outputs": [
    {
     "data": {
      "text/plain": [
       "array([[-5., -5., -5., -5., -5.],\n",
       "       [-5., -5., -5., -5., -5.],\n",
       "       [-5., -5., -5., -5., -5.],\n",
       "       [-5., -5., -5., -5., -5.],\n",
       "       [nan, nan, nan, nan, nan]])"
      ]
     },
     "execution_count": 15,
     "metadata": {},
     "output_type": "execute_result"
    }
   ],
   "source": [
    "A-B"
   ]
  },
  {
   "cell_type": "markdown",
   "id": "8c646481",
   "metadata": {},
   "source": [
    "## Loading all the indices \n",
    "\n",
    "from top-left to top adjancent values in anti-clockwise direction"
   ]
  },
  {
   "cell_type": "code",
   "execution_count": 4,
   "id": "049896b1",
   "metadata": {},
   "outputs": [
    {
     "name": "stdout",
     "output_type": "stream",
     "text": [
      "[(0, 0), (0, 1), (0, 2), (1, 0), (1, 2), (2, 0), (2, 1), (2, 2)]\n"
     ]
    }
   ],
   "source": [
    "p = product([0,1,2],repeat=2)\n",
    "indices = []\n",
    "for x in p:\n",
    "    if x != (1,1):\n",
    "        indices.append(x)\n",
    "        \n",
    "print(indices)"
   ]
  },
  {
   "cell_type": "markdown",
   "id": "cdbc8fa3",
   "metadata": {},
   "source": [
    "## Calculating the slope"
   ]
  },
  {
   "cell_type": "code",
   "execution_count": 5,
   "id": "8bab5744",
   "metadata": {},
   "outputs": [],
   "source": [
    "def adjacent_values(A, index=(1,1)):\n",
    "    B = np.pad(A,pad_width=1)[index[0]:index[0]+A.shape[0],index[1]:index[1]+A.shape[1]]\n",
    "    return B"
   ]
  },
  {
   "cell_type": "code",
   "execution_count": 6,
   "id": "7c74bf9f",
   "metadata": {},
   "outputs": [],
   "source": [
    "slope = np.zeros(A.shape)\n",
    "for i in indices:\n",
    "    B = adjacent_values(A, index=i)\n",
    "    slope += A - B"
   ]
  },
  {
   "cell_type": "code",
   "execution_count": 7,
   "id": "9e57a046",
   "metadata": {},
   "outputs": [
    {
     "data": {
      "text/plain": [
       "array([[-12., -12.,  -9.,  -6.,  12.],\n",
       "       [ 12.,   0.,   0.,   0.,  30.],\n",
       "       [ 27.,   0.,   0.,   0.,  45.],\n",
       "       [ 42.,   0.,   0.,   0.,  60.],\n",
       "       [108.,  78.,  81.,  84., 132.]])"
      ]
     },
     "execution_count": 7,
     "metadata": {},
     "output_type": "execute_result"
    }
   ],
   "source": [
    "slope"
   ]
  },
  {
   "cell_type": "markdown",
   "id": "28e82c11",
   "metadata": {},
   "source": [
    "## Calculating slope for very big matrix"
   ]
  },
  {
   "cell_type": "code",
   "execution_count": 5,
   "id": "fdf82618",
   "metadata": {},
   "outputs": [],
   "source": [
    "def adjacent_values(A, index=(1,1)):\n",
    "    B = np.pad(A,pad_width=1)[index[0]:index[0]+A.shape[0],index[1]:index[1]+A.shape[1]]\n",
    "    return B\n",
    "\n",
    "def vectorized_slope_calc(A):   \n",
    "    \n",
    "    '''\n",
    "    Calculates the slope of a value in a matrix with respect to its neighboring values.\n",
    "    Currently the kernel size chosen is around 3X3 matrix. \n",
    "    \n",
    "    INPUT: takes a matrix of which slope is to be calculated\n",
    "    Returns: the slope matrix of the same size as the input matrix\n",
    "    '''\n",
    "    if A.shape[0] >= 3 and A.shape[0]==A.shape[1]:\n",
    "        ## List down all the indices of the adjacent values:\n",
    "        p = product(list(range(0,3)),repeat=2) ## Kernel size taken as 3\n",
    "        indices = []\n",
    "        for x in p:\n",
    "            if x != (1,1):\n",
    "                indices.append(x)\n",
    "\n",
    "        ## Calculate the slope:\n",
    "        slope = np.zeros(A.shape)\n",
    "        for i in indices:\n",
    "            B = adjacent_values(A, index=i) ## Find the adjacent matrix\n",
    "            slope += np.abs(A - B)  ## Only find the magnitude of the difference\n",
    "\n",
    "        return slope\n",
    "    \n",
    "    else:\n",
    "        print(\"Array size too small or not a square matrix. It should be greater than or equal to (3,3)\")\n",
    "        return None"
   ]
  },
  {
   "cell_type": "code",
   "execution_count": 9,
   "id": "c4043d04",
   "metadata": {},
   "outputs": [
    {
     "name": "stdout",
     "output_type": "stream",
     "text": [
      "[[ 164 -147 -151  -38   38]\n",
      " [ 114 -186  -62   24   28]\n",
      " [  42   54  -55  244  134]\n",
      " [  62   42  -42 -132   -7]\n",
      " [ -29  151  -38 -221  181]]\n",
      "Wall time: 9.56 ms\n"
     ]
    },
    {
     "data": {
      "text/plain": [
       "array([[1531., 1141.,  869.,  455.,  290.],\n",
       "       [1085., 1447.,  837.,  750.,  486.],\n",
       "       [ 458.,  653.,  812., 2064., 1135.],\n",
       "       [ 414.,  473.,  945., 1430.,  940.],\n",
       "       [ 487., 1213.,  664., 1730., 1808.]])"
      ]
     },
     "execution_count": 9,
     "metadata": {},
     "output_type": "execute_result"
    }
   ],
   "source": [
    "%%time\n",
    "X = np.int32(np.random.randn(5,5)*100)\n",
    "print(X)\n",
    "vectorized_slope_calc(X)"
   ]
  },
  {
   "cell_type": "code",
   "execution_count": 10,
   "id": "28774f2f",
   "metadata": {},
   "outputs": [
    {
     "name": "stdout",
     "output_type": "stream",
     "text": [
      "0.1862645149230957 GB\n",
      "Wall time: 4.31 s\n"
     ]
    }
   ],
   "source": [
    "%%time\n",
    "Y = np.random.randn(5000,5000)\n",
    "print((Y.size * Y.itemsize)/1024**3, \"GB\")\n",
    "# slope_vectorized(X)"
   ]
  },
  {
   "cell_type": "markdown",
   "id": "032adc0e",
   "metadata": {},
   "source": [
    "**Some Statistics**\n",
    "1. Matrix size 10000 by 10000, memory size=0.74 GB | Time taken : 9 seconds\n",
    "2. Matrix size 20000 by 20000, memory size=3.0 GB | Time taken : 3 mins"
   ]
  },
  {
   "cell_type": "code",
   "execution_count": 11,
   "id": "f275fd0a",
   "metadata": {},
   "outputs": [
    {
     "name": "stdout",
     "output_type": "stream",
     "text": [
      "(5000, 5000)\n",
      "Wall time: 9.91 s\n"
     ]
    },
    {
     "data": {
      "text/plain": [
       "array([[ 5.30081995,  4.32876667,  4.46221476, ...,  5.01434163,\n",
       "         7.92927834, 15.23068095],\n",
       "       [ 4.88473814, 11.6689104 ,  7.98231028, ...,  6.95144713,\n",
       "         8.1354536 , 11.33454662],\n",
       "       [ 5.80198529,  7.34073471, 15.48076382, ...,  6.98245503,\n",
       "         6.92152771,  9.42622534],\n",
       "       ...,\n",
       "       [ 7.05487753, 14.67206115, 13.47647036, ..., 12.99319906,\n",
       "        12.87836391,  7.01797595],\n",
       "       [ 6.47649235, 10.70006632,  8.66281141, ..., 12.28129229,\n",
       "        15.74930557,  6.05783338],\n",
       "       [ 3.89090199,  3.86018761,  7.46418244, ...,  7.68141404,\n",
       "        11.15461709,  6.95458439]])"
      ]
     },
     "execution_count": 11,
     "metadata": {},
     "output_type": "execute_result"
    }
   ],
   "source": [
    "%%time\n",
    "S = vectorized_slope_calc(Y)\n",
    "print(S.shape)\n",
    "S"
   ]
  },
  {
   "cell_type": "markdown",
   "id": "a14a7aa6",
   "metadata": {},
   "source": [
    "## Scaling the outputs\n",
    "Scaling the outputs in between 0,1"
   ]
  },
  {
   "cell_type": "code",
   "execution_count": 12,
   "id": "39826904",
   "metadata": {},
   "outputs": [
    {
     "data": {
      "text/plain": [
       "(0.7114276804899553, 48.98780829679346)"
      ]
     },
     "execution_count": 12,
     "metadata": {},
     "output_type": "execute_result"
    }
   ],
   "source": [
    "S.min(), S.max()"
   ]
  },
  {
   "cell_type": "code",
   "execution_count": 13,
   "id": "60acfb70",
   "metadata": {},
   "outputs": [
    {
     "data": {
      "text/plain": [
       "(0.0, 1.0000000000000002)"
      ]
     },
     "execution_count": 13,
     "metadata": {},
     "output_type": "execute_result"
    }
   ],
   "source": [
    "scaler = MinMaxScaler()\n",
    "S_sc = scaler.fit_transform(S)\n",
    "S_sc.min(), S_sc.max()"
   ]
  },
  {
   "cell_type": "code",
   "execution_count": 15,
   "id": "5743620d",
   "metadata": {},
   "outputs": [
    {
     "data": {
      "text/html": [
       "<div>\n",
       "<style scoped>\n",
       "    .dataframe tbody tr th:only-of-type {\n",
       "        vertical-align: middle;\n",
       "    }\n",
       "\n",
       "    .dataframe tbody tr th {\n",
       "        vertical-align: top;\n",
       "    }\n",
       "\n",
       "    .dataframe thead th {\n",
       "        text-align: right;\n",
       "    }\n",
       "</style>\n",
       "<table border=\"1\" class=\"dataframe\">\n",
       "  <thead>\n",
       "    <tr style=\"text-align: right;\">\n",
       "      <th></th>\n",
       "      <th>x</th>\n",
       "      <th>y</th>\n",
       "      <th>z</th>\n",
       "    </tr>\n",
       "  </thead>\n",
       "  <tbody>\n",
       "    <tr>\n",
       "      <th>0</th>\n",
       "      <td>0</td>\n",
       "      <td>12</td>\n",
       "      <td>12.691395</td>\n",
       "    </tr>\n",
       "    <tr>\n",
       "      <th>1</th>\n",
       "      <td>0</td>\n",
       "      <td>35</td>\n",
       "      <td>14.998490</td>\n",
       "    </tr>\n",
       "    <tr>\n",
       "      <th>2</th>\n",
       "      <td>0</td>\n",
       "      <td>51</td>\n",
       "      <td>18.462999</td>\n",
       "    </tr>\n",
       "    <tr>\n",
       "      <th>3</th>\n",
       "      <td>0</td>\n",
       "      <td>93</td>\n",
       "      <td>14.793876</td>\n",
       "    </tr>\n",
       "    <tr>\n",
       "      <th>4</th>\n",
       "      <td>0</td>\n",
       "      <td>94</td>\n",
       "      <td>16.113156</td>\n",
       "    </tr>\n",
       "    <tr>\n",
       "      <th>...</th>\n",
       "      <td>...</td>\n",
       "      <td>...</td>\n",
       "      <td>...</td>\n",
       "    </tr>\n",
       "    <tr>\n",
       "      <th>2633216</th>\n",
       "      <td>4999</td>\n",
       "      <td>4978</td>\n",
       "      <td>15.072352</td>\n",
       "    </tr>\n",
       "    <tr>\n",
       "      <th>2633217</th>\n",
       "      <td>4999</td>\n",
       "      <td>4979</td>\n",
       "      <td>18.179902</td>\n",
       "    </tr>\n",
       "    <tr>\n",
       "      <th>2633218</th>\n",
       "      <td>4999</td>\n",
       "      <td>4982</td>\n",
       "      <td>15.695915</td>\n",
       "    </tr>\n",
       "    <tr>\n",
       "      <th>2633219</th>\n",
       "      <td>4999</td>\n",
       "      <td>4988</td>\n",
       "      <td>15.016019</td>\n",
       "    </tr>\n",
       "    <tr>\n",
       "      <th>2633220</th>\n",
       "      <td>4999</td>\n",
       "      <td>4989</td>\n",
       "      <td>17.991546</td>\n",
       "    </tr>\n",
       "  </tbody>\n",
       "</table>\n",
       "<p>2633221 rows × 3 columns</p>\n",
       "</div>"
      ],
      "text/plain": [
       "            x     y          z\n",
       "0           0    12  12.691395\n",
       "1           0    35  14.998490\n",
       "2           0    51  18.462999\n",
       "3           0    93  14.793876\n",
       "4           0    94  16.113156\n",
       "...       ...   ...        ...\n",
       "2633216  4999  4978  15.072352\n",
       "2633217  4999  4979  18.179902\n",
       "2633218  4999  4982  15.695915\n",
       "2633219  4999  4988  15.016019\n",
       "2633220  4999  4989  17.991546\n",
       "\n",
       "[2633221 rows x 3 columns]"
      ]
     },
     "execution_count": 15,
     "metadata": {},
     "output_type": "execute_result"
    }
   ],
   "source": [
    "xi,yi = np.where(S_sc>=0.4)\n",
    "data = np.column_stack((xi,yi,S[xi,yi]))\n",
    "data = pd.DataFrame(data, columns=[\"x\",\"y\",\"z\"])\n",
    "data[[\"x\",\"y\"]] = data[[\"x\",\"y\"]].astype(np.uint16)\n",
    "data"
   ]
  },
  {
   "cell_type": "code",
   "execution_count": 16,
   "id": "24273373",
   "metadata": {},
   "outputs": [
    {
     "data": {
      "text/html": [
       "<div>\n",
       "<style scoped>\n",
       "    .dataframe tbody tr th:only-of-type {\n",
       "        vertical-align: middle;\n",
       "    }\n",
       "\n",
       "    .dataframe tbody tr th {\n",
       "        vertical-align: top;\n",
       "    }\n",
       "\n",
       "    .dataframe thead th {\n",
       "        text-align: right;\n",
       "    }\n",
       "</style>\n",
       "<table border=\"1\" class=\"dataframe\">\n",
       "  <thead>\n",
       "    <tr style=\"text-align: right;\">\n",
       "      <th></th>\n",
       "      <th>x</th>\n",
       "      <th>y</th>\n",
       "      <th>z</th>\n",
       "    </tr>\n",
       "  </thead>\n",
       "  <tbody>\n",
       "    <tr>\n",
       "      <th>0</th>\n",
       "      <td>0</td>\n",
       "      <td>0</td>\n",
       "      <td>5.300820</td>\n",
       "    </tr>\n",
       "    <tr>\n",
       "      <th>1</th>\n",
       "      <td>20</td>\n",
       "      <td>0</td>\n",
       "      <td>5.354046</td>\n",
       "    </tr>\n",
       "    <tr>\n",
       "      <th>2</th>\n",
       "      <td>40</td>\n",
       "      <td>0</td>\n",
       "      <td>8.143778</td>\n",
       "    </tr>\n",
       "    <tr>\n",
       "      <th>3</th>\n",
       "      <td>60</td>\n",
       "      <td>0</td>\n",
       "      <td>8.789784</td>\n",
       "    </tr>\n",
       "    <tr>\n",
       "      <th>4</th>\n",
       "      <td>80</td>\n",
       "      <td>0</td>\n",
       "      <td>13.708069</td>\n",
       "    </tr>\n",
       "    <tr>\n",
       "      <th>...</th>\n",
       "      <td>...</td>\n",
       "      <td>...</td>\n",
       "      <td>...</td>\n",
       "    </tr>\n",
       "    <tr>\n",
       "      <th>2633216</th>\n",
       "      <td>4999</td>\n",
       "      <td>4978</td>\n",
       "      <td>15.072352</td>\n",
       "    </tr>\n",
       "    <tr>\n",
       "      <th>2633217</th>\n",
       "      <td>4999</td>\n",
       "      <td>4979</td>\n",
       "      <td>18.179902</td>\n",
       "    </tr>\n",
       "    <tr>\n",
       "      <th>2633218</th>\n",
       "      <td>4999</td>\n",
       "      <td>4982</td>\n",
       "      <td>15.695915</td>\n",
       "    </tr>\n",
       "    <tr>\n",
       "      <th>2633219</th>\n",
       "      <td>4999</td>\n",
       "      <td>4988</td>\n",
       "      <td>15.016019</td>\n",
       "    </tr>\n",
       "    <tr>\n",
       "      <th>2633220</th>\n",
       "      <td>4999</td>\n",
       "      <td>4989</td>\n",
       "      <td>17.991546</td>\n",
       "    </tr>\n",
       "  </tbody>\n",
       "</table>\n",
       "<p>2689115 rows × 3 columns</p>\n",
       "</div>"
      ],
      "text/plain": [
       "            x     y          z\n",
       "0           0     0   5.300820\n",
       "1          20     0   5.354046\n",
       "2          40     0   8.143778\n",
       "3          60     0   8.789784\n",
       "4          80     0  13.708069\n",
       "...       ...   ...        ...\n",
       "2633216  4999  4978  15.072352\n",
       "2633217  4999  4979  18.179902\n",
       "2633218  4999  4982  15.695915\n",
       "2633219  4999  4988  15.016019\n",
       "2633220  4999  4989  17.991546\n",
       "\n",
       "[2689115 rows x 3 columns]"
      ]
     },
     "execution_count": 16,
     "metadata": {},
     "output_type": "execute_result"
    }
   ],
   "source": [
    "## find the grid points\n",
    "grid_size = 20\n",
    "ai = np.arange(0,S.shape[0],grid_size)\n",
    "bi = np.arange(0,S.shape[1],grid_size)\n",
    "Ai, Bi = np.meshgrid(ai,bi)\n",
    "grid = S[Ai,Bi]\n",
    "grid = np.column_stack((Ai.ravel(), Bi.ravel(), grid.ravel()))\n",
    "grid = pd.DataFrame(grid, columns=[\"x\",\"y\",\"z\"])\n",
    "grid[[\"x\",\"y\"]] = grid[[\"x\",\"y\"]].astype(np.uint16)\n",
    "\n",
    "output = pd.concat([grid, data]).drop_duplicates(subset=[\"x\",\"y\"])\n",
    "output"
   ]
  },
  {
   "cell_type": "markdown",
   "id": "f8ac4458",
   "metadata": {},
   "source": [
    "## Improvements\n",
    "\n",
    "For arrays which are out of memory when loaded, `dask.arrays` can be used for overcoming this situation. Also with this we can further improve the calculating by implementing parrallel computing using `dask`."
   ]
  }
 ],
 "metadata": {
  "kernelspec": {
   "display_name": "Python 3",
   "language": "python",
   "name": "python3"
  },
  "language_info": {
   "codemirror_mode": {
    "name": "ipython",
    "version": 3
   },
   "file_extension": ".py",
   "mimetype": "text/x-python",
   "name": "python",
   "nbconvert_exporter": "python",
   "pygments_lexer": "ipython3",
   "version": "3.8.8"
  },
  "toc": {
   "base_numbering": 1,
   "nav_menu": {},
   "number_sections": true,
   "sideBar": true,
   "skip_h1_title": false,
   "title_cell": "Table of Contents",
   "title_sidebar": "Contents",
   "toc_cell": false,
   "toc_position": {},
   "toc_section_display": true,
   "toc_window_display": false
  }
 },
 "nbformat": 4,
 "nbformat_minor": 5
}
